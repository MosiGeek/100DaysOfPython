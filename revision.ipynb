{
 "cells": [
  {
   "cell_type": "code",
   "execution_count": 27,
   "metadata": {},
   "outputs": [
    {
     "name": "stdout",
     "output_type": "stream",
     "text": [
      "Odd\n",
      "Even\n",
      "Odd\n",
      "Even\n",
      "Odd\n",
      "Even\n",
      "Odd\n",
      "Even\n",
      "Odd\n",
      "Even\n",
      "None\n"
     ]
    }
   ],
   "source": [
    "# add = lambda x,y : x+y\n",
    "\n",
    "# print(add(4,5))    \n",
    "\n",
    "# figures = [1,2,3,4,5,6,7,8]\n",
    "# oddOrEven = lambda num : \"Even\" if num % 2 == 0 else \"Odd\"\n",
    "\n",
    "# print(oddOrEven(figures))\n",
    "\n",
    "def oddOrEven(nums):\n",
    "    for i in nums:\n",
    "        if i % 2 == 0:\n",
    "            print(\"Even\")\n",
    "        else:\n",
    "            print(\"Odd\")\n",
    "    \n",
    "        \n",
    "randFigures = [1,2,3,4,5,6,7,8,9,10]    \n",
    "\n",
    "print(oddOrEven(randFigures))\n",
    "\n",
    "\n"
   ]
  },
  {
   "cell_type": "code",
   "execution_count": null,
   "metadata": {},
   "outputs": [],
   "source": [
    "# classes revision\n",
    "\n",
    "class Team:\n",
    "    def __init__(self,name=\"NaN\",origin=\"NaN\",player=\"NaN\"): #overiding the initializer and setting defaults\n",
    "        self.teamName = name\n",
    "        self.teamOrigin = origin\n",
    "        self.playerName = player\n",
    "\n",
    "    def setTeamName(self,name):\n",
    "        self.teamName = name\n",
    "\n",
    "    def setTeamOrigin(self,origin):\n",
    "        self.teamOrigin = origin    \n",
    "\n",
    "\n",
    "\n",
    "Team1 = Team(\"ManCity\",\"England\",\"Rooney\") #initializing A New Class\n",
    "\n",
    "\n",
    "print(Team1.teamName)\n",
    "Team1.setTeamName(\"YadaYada\")\n",
    "\n",
    "\n",
    "Team1.setTeamOrigin(\"Africa\")\n",
    "\n",
    "print(Team1.teamName)\n",
    "print(Team1.teamOrigin)\n",
    "\n",
    "Team2 = Team()\n",
    "\n",
    "Team2.setTeamName(\"Real Madrid\")\n",
    "Team2.setTeamOrigin(\"Spain\")\n",
    "\n",
    "print(f\"Team {Team2.teamName} is from {Team2.teamOrigin}\")\n",
    "\n",
    "\n",
    "\n",
    "Team3 = Team(\"Barcelona\",\"Spain\",\"Messi\")\n",
    "\n",
    "print(f\"{Team3.playerName} plays {Team3.teamName} from {Team3.teamOrigin}\")"
   ]
  },
  {
   "cell_type": "code",
   "execution_count": null,
   "metadata": {},
   "outputs": [],
   "source": [
    "# inheritence \n",
    "\n"
   ]
  }
 ],
 "metadata": {
  "kernelspec": {
   "display_name": "Python 3",
   "language": "python",
   "name": "python3"
  },
  "language_info": {
   "codemirror_mode": {
    "name": "ipython",
    "version": 3
   },
   "file_extension": ".py",
   "mimetype": "text/x-python",
   "name": "python",
   "nbconvert_exporter": "python",
   "pygments_lexer": "ipython3",
   "version": "3.12.0"
  }
 },
 "nbformat": 4,
 "nbformat_minor": 2
}
