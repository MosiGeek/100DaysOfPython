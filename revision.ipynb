{
 "cells": [
  {
   "cell_type": "code",
   "execution_count": 27,
   "metadata": {},
   "outputs": [
    {
     "name": "stdout",
     "output_type": "stream",
     "text": [
      "Odd\n",
      "Even\n",
      "Odd\n",
      "Even\n",
      "Odd\n",
      "Even\n",
      "Odd\n",
      "Even\n",
      "Odd\n",
      "Even\n",
      "None\n"
     ]
    }
   ],
   "source": [
    "# add = lambda x,y : x+y\n",
    "\n",
    "# print(add(4,5))    \n",
    "\n",
    "# figures = [1,2,3,4,5,6,7,8]\n",
    "# oddOrEven = lambda num : \"Even\" if num % 2 == 0 else \"Odd\"\n",
    "\n",
    "# print(oddOrEven(figures))\n",
    "\n",
    "def oddOrEven(nums):\n",
    "    for i in nums:\n",
    "        if i % 2 == 0:\n",
    "            print(\"Even\")\n",
    "        else:\n",
    "            print(\"Odd\")\n",
    "    \n",
    "        \n",
    "randFigures = [1,2,3,4,5,6,7,8,9,10]    \n",
    "\n",
    "print(oddOrEven(randFigures))\n",
    "\n",
    "\n"
   ]
  },
  {
   "cell_type": "code",
   "execution_count": 2,
   "metadata": {},
   "outputs": [
    {
     "name": "stdout",
     "output_type": "stream",
     "text": [
      "NaN\n"
     ]
    }
   ],
   "source": [
    "# classes revision\n",
    "\n",
    "class Team:\n",
    "    def __init__(self): #overiding the initializer\n",
    "        self.teamName = \"NaN\"\n",
    "        self.teamOrigin = \"NaN\"\n",
    "        self.playerName = \"\"\n",
    "\n",
    "\n",
    "Team1 = Team() #initializing A New Class\n",
    "\n",
    "print(Team1.teamName)\n",
    "\n"
   ]
  }
 ],
 "metadata": {
  "kernelspec": {
   "display_name": "Python 3",
   "language": "python",
   "name": "python3"
  },
  "language_info": {
   "codemirror_mode": {
    "name": "ipython",
    "version": 3
   },
   "file_extension": ".py",
   "mimetype": "text/x-python",
   "name": "python",
   "nbconvert_exporter": "python",
   "pygments_lexer": "ipython3",
   "version": "3.12.0"
  }
 },
 "nbformat": 4,
 "nbformat_minor": 2
}
